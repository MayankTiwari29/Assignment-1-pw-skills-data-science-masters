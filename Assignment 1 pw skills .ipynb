{
 "cells": [
  {
   "cell_type": "raw",
   "id": "ee43e0f6-12e3-4271-b978-0ad640084c8d",
   "metadata": {},
   "source": [
    "Q1. Create one variable containing following type of data:\n",
    "(i) string\n",
    "(ii) list\n",
    "(iii) float\n",
    "(iv) tuple"
   ]
  },
  {
   "cell_type": "code",
   "execution_count": 1,
   "id": "0106cf7c-c5d1-4181-b11b-92e3ae9c0df0",
   "metadata": {},
   "outputs": [],
   "source": [
    "a = \"Mayank\"                   #str\n",
    "b= [4,6,345, \"Rahul\", 579.4]   #list\n",
    "c= 76.5                        #float\n",
    "d= (45,35,True)                #turple\n"
   ]
  },
  {
   "cell_type": "raw",
   "id": "d4053c92-1477-431e-9bd7-3cd4d28659a3",
   "metadata": {},
   "source": [
    "Q2. Given are some following variables containing data. What will be the data type of the above given variable.\n",
    "(i) var1 = ‘ ‘                                  # Here it is a string\n",
    "(ii) var2 = ‘[ DS , ML , Python]’               # It is a string\n",
    "(iii) var3 = [ ‘DS’ , ’ML’ , ‘Python’ ]         # It is a list\n",
    "(iv) var4 = 1.                                  # It is a floating no.\n"
   ]
  },
  {
   "cell_type": "raw",
   "id": "c182ebda-8e04-4d57-9711-465c0502a2dc",
   "metadata": {},
   "source": [
    "Q3. Explain the use of the following operators using an example:\n",
    "(i) /\n",
    "(ii) %\n",
    "(iii) //\n",
    "(iv) **"
   ]
  },
  {
   "cell_type": "code",
   "execution_count": 2,
   "id": "28dc0897-4c3d-4289-9ae9-3f9473cd2637",
   "metadata": {},
   "outputs": [
    {
     "name": "stdout",
     "output_type": "stream",
     "text": [
      "2.5\n",
      "2\n",
      "2\n",
      "10000\n"
     ]
    }
   ],
   "source": [
    "x= 10\n",
    "y = 4\n",
    "print(x/y)       # quotient is given when x is divided by Y\n",
    "print(x%y)       # remainder is given when x is divided by y \n",
    "print (x//y)     # Nearest integer of quotient is given when x is divided by y\n",
    "print(x**y)      # x is multiplied y times "
   ]
  },
  {
   "cell_type": "raw",
   "id": "d2df55a4-f3a3-44b3-b0a1-d233c9abeca5",
   "metadata": {},
   "source": [
    "Q4. Create a list of length 10 of your choice containing multiple types of data. Using for loop print the\n",
    "element and its data type."
   ]
  },
  {
   "cell_type": "code",
   "execution_count": 3,
   "id": "8891982d-e5fd-4f0a-960a-c856c772592b",
   "metadata": {
    "tags": []
   },
   "outputs": [
    {
     "name": "stdout",
     "output_type": "stream",
     "text": [
      "2\n",
      "<class 'int'>\n",
      "I\n",
      "<class 'str'>\n",
      "Me\n",
      "<class 'str'>\n",
      "Myself\n",
      "<class 'str'>\n",
      "5\n",
      "<class 'int'>\n",
      "4.6\n",
      "<class 'float'>\n",
      "True\n",
      "<class 'bool'>\n",
      "PW\n",
      "<class 'str'>\n",
      "False\n",
      "<class 'bool'>\n",
      "78\n",
      "<class 'int'>\n"
     ]
    }
   ],
   "source": [
    "l = [2, \"I\" , \"Me\", \"Myself\", 5,4.6 , True, \"PW\", False, 78 ]\n",
    "for i in l:\n",
    "    print(i)\n",
    "    print(type(i))"
   ]
  },
  {
   "cell_type": "raw",
   "id": "55c5f9b0-f656-4099-9d81-0d7762de6588",
   "metadata": {},
   "source": [
    "Q5. Using a while loop, verify if the number A is purely divisible by number B and if so then how manytimes it can be divisible."
   ]
  },
  {
   "cell_type": "code",
   "execution_count": 4,
   "id": "f2b09d25-2a2c-4dee-bfa8-db1e8cff9fd3",
   "metadata": {},
   "outputs": [
    {
     "name": "stdin",
     "output_type": "stream",
     "text": [
      " 100\n",
      " 10\n"
     ]
    },
    {
     "name": "stdout",
     "output_type": "stream",
     "text": [
      "a is divisible by b and a is divisible by b for 10.0 times\n"
     ]
    }
   ],
   "source": [
    "a=int(input())\n",
    "b=int(input())\n",
    "while a%b==0:\n",
    "    print('a is divisible by b', 'and a is divisible by b for', a/b, 'times')\n",
    "    break\n",
    "else:\n",
    "    print('a is not divisible by b')"
   ]
  },
  {
   "cell_type": "raw",
   "id": "818eb953-28a9-486c-9fc0-2891ea60edc2",
   "metadata": {},
   "source": [
    "Q6. Create a list containing 25 int type data. Using for loop and if-else condition print if the element is\n",
    "divisible by 3 or not."
   ]
  },
  {
   "cell_type": "code",
   "execution_count": 5,
   "id": "2abc6db5-379c-42ff-a587-fc8acead0c52",
   "metadata": {},
   "outputs": [
    {
     "name": "stdout",
     "output_type": "stream",
     "text": [
      "1 is not divisible by 3\n",
      "2 is not divisible by 3\n",
      "3 is divisible by 3\n",
      "4 is not divisible by 3\n",
      "5 is not divisible by 3\n",
      "6 is divisible by 3\n",
      "7 is not divisible by 3\n",
      "8 is not divisible by 3\n",
      "9 is divisible by 3\n",
      "10 is not divisible by 3\n",
      "11 is not divisible by 3\n",
      "12 is divisible by 3\n",
      "13 is not divisible by 3\n",
      "14 is not divisible by 3\n",
      "15 is divisible by 3\n",
      "16 is not divisible by 3\n",
      "17 is not divisible by 3\n",
      "18 is divisible by 3\n",
      "19 is not divisible by 3\n",
      "20 is not divisible by 3\n",
      "21 is divisible by 3\n",
      "22 is not divisible by 3\n",
      "23 is not divisible by 3\n",
      "24 is divisible by 3\n",
      "25 is not divisible by 3\n"
     ]
    }
   ],
   "source": [
    "l1 = [1,2,3,4,5,6,7,8,9,10,11,12,13,14,15,16,17,18,19,20,21,22,23,24,25]\n",
    "for i in l1:\n",
    "    if i % 3 == 0: \n",
    "        print(i, \"is divisible by 3\")\n",
    "    else:\n",
    "        print(i, \"is not divisible by 3\")"
   ]
  },
  {
   "cell_type": "raw",
   "id": "25a56c7d-d528-43e2-9888-5f395f25e907",
   "metadata": {},
   "source": [
    "Q7. What do you understand about mutable and immutable data types? Give examples for both showing\n",
    "this property."
   ]
  },
  {
   "cell_type": "code",
   "execution_count": 6,
   "id": "af8184ef-145f-4906-9c54-faae7e439f19",
   "metadata": {},
   "outputs": [
    {
     "data": {
      "text/plain": [
       "['Mayank', 15, 'Aug', 2003]"
      ]
     },
     "execution_count": 6,
     "metadata": {},
     "output_type": "execute_result"
    }
   ],
   "source": [
    "#Mutable data type are those which can be eddited when we do any changes in terms of adding, removing, replacing with the help of index value.\n",
    "s= [\"Mayank\", 29, \"Aug\", 2003]\n",
    "s[1]= 15\n",
    "s"
   ]
  },
  {
   "cell_type": "code",
   "execution_count": 7,
   "id": "1caf9693-9db2-451b-949c-62e649df0b39",
   "metadata": {},
   "outputs": [
    {
     "ename": "TypeError",
     "evalue": "'tuple' object does not support item assignment",
     "output_type": "error",
     "traceback": [
      "\u001b[0;31m---------------------------------------------------------------------------\u001b[0m",
      "\u001b[0;31mTypeError\u001b[0m                                 Traceback (most recent call last)",
      "Cell \u001b[0;32mIn[7], line 3\u001b[0m\n\u001b[1;32m      1\u001b[0m \u001b[38;5;66;03m#Immutable data type are those which cannot be eddited when we do any changes in terms of adding, removing, replacing with the help of index value.\u001b[39;00m\n\u001b[1;32m      2\u001b[0m s1 \u001b[38;5;241m=\u001b[39m (\u001b[38;5;241m45\u001b[39m,\u001b[38;5;241m23\u001b[39m,\u001b[38;5;241m64\u001b[39m,\u001b[38;5;241m94\u001b[39m) \n\u001b[0;32m----> 3\u001b[0m \u001b[43ms1\u001b[49m\u001b[43m[\u001b[49m\u001b[38;5;241;43m0\u001b[39;49m\u001b[43m]\u001b[49m \u001b[38;5;241m=\u001b[39m \u001b[38;5;124m\"\u001b[39m\u001b[38;5;124mMayank\u001b[39m\u001b[38;5;124m\"\u001b[39m\n\u001b[1;32m      4\u001b[0m s1\n",
      "\u001b[0;31mTypeError\u001b[0m: 'tuple' object does not support item assignment"
     ]
    }
   ],
   "source": [
    "#Immutable data type are those which cannot be eddited when we do any changes in terms of adding, removing, replacing with the help of index value.\n",
    "s1 = (45,23,64,94) \n",
    "s1[0] = \"Mayank\"\n",
    "s1"
   ]
  }
 ],
 "metadata": {
  "kernelspec": {
   "display_name": "Python 3 (ipykernel)",
   "language": "python",
   "name": "python3"
  },
  "language_info": {
   "codemirror_mode": {
    "name": "ipython",
    "version": 3
   },
   "file_extension": ".py",
   "mimetype": "text/x-python",
   "name": "python",
   "nbconvert_exporter": "python",
   "pygments_lexer": "ipython3",
   "version": "3.10.8"
  }
 },
 "nbformat": 4,
 "nbformat_minor": 5
}
